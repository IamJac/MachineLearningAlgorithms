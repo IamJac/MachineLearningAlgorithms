{
  "nbformat": 4,
  "nbformat_minor": 0,
  "metadata": {
    "colab": {
      "provenance": [],
      "authorship_tag": "ABX9TyOP0YpnT5jsqIisrviFWZgK",
      "include_colab_link": true
    },
    "kernelspec": {
      "name": "python3",
      "display_name": "Python 3"
    },
    "language_info": {
      "name": "python"
    }
  },
  "cells": [
    {
      "cell_type": "markdown",
      "metadata": {
        "id": "view-in-github",
        "colab_type": "text"
      },
      "source": [
        "<a href=\"https://colab.research.google.com/github/IamJac/MachineLearningAlgorithms/blob/main/LinearRegression02.ipynb\" target=\"_parent\"><img src=\"https://colab.research.google.com/assets/colab-badge.svg\" alt=\"Open In Colab\"/></a>"
      ]
    },
    {
      "cell_type": "markdown",
      "source": [
        "**IMPORTING NECCESSARY MODULES**"
      ],
      "metadata": {
        "id": "xTObn6aLLIqY"
      }
    },
    {
      "cell_type": "code",
      "execution_count": 18,
      "metadata": {
        "id": "sH_edAyxGn_4"
      },
      "outputs": [],
      "source": [
        "import numpy as np\n",
        "import pandas as pd\n",
        "import matplotlib.pyplot as plt\n",
        "from sklearn import datasets\n",
        "from sklearn.model_selection import train_test_split\n",
        "from sklearn.linear_model import LinearRegression\n",
        "from sklearn.metrics import mean_squared_error,mean_absolute_error,root_mean_squared_error"
      ]
    },
    {
      "cell_type": "markdown",
      "source": [],
      "metadata": {
        "id": "xvFd2qb4LGbF"
      }
    },
    {
      "cell_type": "markdown",
      "source": [
        "**LOADING THE DATA**"
      ],
      "metadata": {
        "id": "PhuUeZeYM3d4"
      }
    },
    {
      "cell_type": "code",
      "source": [
        "iris=datasets.load_iris()\n",
        "print(iris.data.shape)\n",
        "print(iris.feature_names)\n",
        "data=pd.DataFrame(iris.data,columns=iris.feature_names)\n",
        "print(data.loc[0:8])\n",
        "print(data.head())"
      ],
      "metadata": {
        "colab": {
          "base_uri": "https://localhost:8080/"
        },
        "id": "AA0mKkErM85V",
        "outputId": "fbc197fd-91af-4cea-c89e-9cec18a95d23"
      },
      "execution_count": 20,
      "outputs": [
        {
          "output_type": "stream",
          "name": "stdout",
          "text": [
            "(150, 4)\n",
            "['sepal length (cm)', 'sepal width (cm)', 'petal length (cm)', 'petal width (cm)']\n",
            "   sepal length (cm)  sepal width (cm)  petal length (cm)  petal width (cm)\n",
            "0                5.1               3.5                1.4               0.2\n",
            "1                4.9               3.0                1.4               0.2\n",
            "2                4.7               3.2                1.3               0.2\n",
            "3                4.6               3.1                1.5               0.2\n",
            "4                5.0               3.6                1.4               0.2\n",
            "5                5.4               3.9                1.7               0.4\n",
            "6                4.6               3.4                1.4               0.3\n",
            "7                5.0               3.4                1.5               0.2\n",
            "8                4.4               2.9                1.4               0.2\n",
            "   sepal length (cm)  sepal width (cm)  petal length (cm)  petal width (cm)\n",
            "0                5.1               3.5                1.4               0.2\n",
            "1                4.9               3.0                1.4               0.2\n",
            "2                4.7               3.2                1.3               0.2\n",
            "3                4.6               3.1                1.5               0.2\n",
            "4                5.0               3.6                1.4               0.2\n"
          ]
        }
      ]
    },
    {
      "cell_type": "markdown",
      "source": [
        "**EXPLORATORY DATA ANALYSIS**"
      ],
      "metadata": {
        "id": "o7INKghLTC3t"
      }
    },
    {
      "cell_type": "code",
      "source": [
        "print(\"Correlation of the features\")\n",
        "print(data.corr())\n",
        "print(data.describe())\n",
        "plt.style.use('ggplot')\n",
        "plt.scatter(x=data['sepal length (cm)'],y=data['sepal width (cm)'],color='m',marker='o',label='sepal data')\n",
        "plt.gca().set(title='Sepal Width Against Sepal Length',xlabel='Sepal Length',ylabel='Sepal Width')\n",
        "plt.legend()\n",
        "plt.show()\n"
      ],
      "metadata": {
        "colab": {
          "base_uri": "https://localhost:8080/",
          "height": 737
        },
        "id": "954WE5CJTOCG",
        "outputId": "a76e00a3-1c84-45ec-975a-4279d020db30"
      },
      "execution_count": 24,
      "outputs": [
        {
          "output_type": "stream",
          "name": "stdout",
          "text": [
            "Correlation of the features\n",
            "                   sepal length (cm)  sepal width (cm)  petal length (cm)  petal width (cm)\n",
            "sepal length (cm)           1.000000         -0.117570           0.871754          0.817941\n",
            "sepal width (cm)           -0.117570          1.000000          -0.428440         -0.366126\n",
            "petal length (cm)           0.871754         -0.428440           1.000000          0.962865\n",
            "petal width (cm)            0.817941         -0.366126           0.962865          1.000000\n",
            "       sepal length (cm)  sepal width (cm)  petal length (cm)  petal width (cm)\n",
            "count         150.000000        150.000000         150.000000        150.000000\n",
            "mean            5.843333          3.057333           3.758000          1.199333\n",
            "std             0.828066          0.435866           1.765298          0.762238\n",
            "min             4.300000          2.000000           1.000000          0.100000\n",
            "25%             5.100000          2.800000           1.600000          0.300000\n",
            "50%             5.800000          3.000000           4.350000          1.300000\n",
            "75%             6.400000          3.300000           5.100000          1.800000\n",
            "max             7.900000          4.400000           6.900000          2.500000\n"
          ]
        },
        {
          "output_type": "display_data",
          "data": {
            "text/plain": [
              "<Figure size 640x480 with 1 Axes>"
            ],
            "image/png": "[encoded data removed]"
          },
          "metadata": {}
        }
      ]
    },
    {
      "cell_type": "markdown",
      "source": [
        "**DATA PRE-PROCESSING**"
      ],
      "metadata": {
        "id": "JNCRkvV3V73L"
      }
    },
    {
      "cell_type": "code",
      "source": [
        "x_data=data['sepal length (cm)'].values.reshape(-1,1)\n",
        "y_data=data['sepal width (cm)'].values.reshape(-1,1)\n",
        "x_train,x_test,y_train,y_test=train_test_split(x_data,y_data,test_size=0.2)\n",
        "print(\"Training data\")\n",
        "print(x_train)\n",
        "print()\n",
        "print(y_train)"
      ],
      "metadata": {
        "colab": {
          "base_uri": "https://localhost:8080/"
        },
        "id": "zIXrok1SfcoY",
        "outputId": "8d8274ef-2fff-4823-cc33-73785b66ade0"
      },
      "execution_count": 52,
      "outputs": [
        {
          "output_type": "stream",
          "name": "stdout",
          "text": [
            "Training data\n",
            "[[5.9]\n",
            " [6.4]\n",
            " [5. ]\n",
            " [6.3]\n",
            " [6.2]\n",
            " [5.5]\n",
            " [5. ]\n",
            " [6.8]\n",
            " [6.5]\n",
            " [5.5]\n",
            " [6.1]\n",
            " [6.8]\n",
            " [5.2]\n",
            " [5.6]\n",
            " [5.2]\n",
            " [5.4]\n",
            " [5. ]\n",
            " [6.4]\n",
            " [5.7]\n",
            " [5.8]\n",
            " [5.4]\n",
            " [4.9]\n",
            " [6.2]\n",
            " [5.1]\n",
            " [5.6]\n",
            " [5.1]\n",
            " [4.6]\n",
            " [4.8]\n",
            " [6.2]\n",
            " [4.8]\n",
            " [5. ]\n",
            " [7. ]\n",
            " [6.7]\n",
            " [6.7]\n",
            " [6.3]\n",
            " [5.4]\n",
            " [5.4]\n",
            " [6. ]\n",
            " [7.2]\n",
            " [5.1]\n",
            " [5.3]\n",
            " [4.4]\n",
            " [5.1]\n",
            " [5.8]\n",
            " [6.5]\n",
            " [5.5]\n",
            " [6.3]\n",
            " [6.3]\n",
            " [5.8]\n",
            " [5.1]\n",
            " [6.7]\n",
            " [7.3]\n",
            " [6. ]\n",
            " [6. ]\n",
            " [5.5]\n",
            " [5.8]\n",
            " [6.4]\n",
            " [5. ]\n",
            " [5.1]\n",
            " [4.9]\n",
            " [6.3]\n",
            " [4.4]\n",
            " [5.6]\n",
            " [5.1]\n",
            " [4.8]\n",
            " [6. ]\n",
            " [7.7]\n",
            " [4.4]\n",
            " [6.5]\n",
            " [5.7]\n",
            " [6.3]\n",
            " [6.6]\n",
            " [4.5]\n",
            " [5. ]\n",
            " [5. ]\n",
            " [6.4]\n",
            " [6.2]\n",
            " [5.7]\n",
            " [5.6]\n",
            " [6.3]\n",
            " [5.2]\n",
            " [5.2]\n",
            " [5.9]\n",
            " [5.1]\n",
            " [7.7]\n",
            " [7.9]\n",
            " [5.5]\n",
            " [4.6]\n",
            " [4.7]\n",
            " [4.9]\n",
            " [5.4]\n",
            " [6.7]\n",
            " [7.7]\n",
            " [7.2]\n",
            " [5.7]\n",
            " [4.9]\n",
            " [5.8]\n",
            " [6.9]\n",
            " [4.3]\n",
            " [4.9]\n",
            " [4.8]\n",
            " [4.9]\n",
            " [6.9]\n",
            " [4.8]\n",
            " [7.6]\n",
            " [6.9]\n",
            " [5.6]\n",
            " [5.8]\n",
            " [6.4]\n",
            " [5. ]\n",
            " [6.7]\n",
            " [6.8]\n",
            " [6.7]\n",
            " [6.6]\n",
            " [5.7]\n",
            " [6.5]\n",
            " [5.9]\n",
            " [6.1]\n",
            " [5.6]\n",
            " [5. ]]\n",
            "\n",
            "[[3.2]\n",
            " [2.8]\n",
            " [3.2]\n",
            " [3.4]\n",
            " [2.8]\n",
            " [4.2]\n",
            " [2.3]\n",
            " [3. ]\n",
            " [2.8]\n",
            " [2.4]\n",
            " [2.6]\n",
            " [3.2]\n",
            " [3.4]\n",
            " [3. ]\n",
            " [3.5]\n",
            " [3.7]\n",
            " [3.4]\n",
            " [2.7]\n",
            " [2.8]\n",
            " [2.7]\n",
            " [3. ]\n",
            " [2.5]\n",
            " [2.9]\n",
            " [3.7]\n",
            " [2.8]\n",
            " [3.4]\n",
            " [3.6]\n",
            " [3.1]\n",
            " [2.2]\n",
            " [3.4]\n",
            " [3.6]\n",
            " [3.2]\n",
            " [3.3]\n",
            " [3. ]\n",
            " [2.3]\n",
            " [3.9]\n",
            " [3.9]\n",
            " [3. ]\n",
            " [3. ]\n",
            " [3.5]\n",
            " [3.7]\n",
            " [2.9]\n",
            " [3.8]\n",
            " [2.7]\n",
            " [3. ]\n",
            " [3.5]\n",
            " [2.5]\n",
            " [3.3]\n",
            " [4. ]\n",
            " [3.5]\n",
            " [3.3]\n",
            " [2.9]\n",
            " [2.9]\n",
            " [3.4]\n",
            " [2.4]\n",
            " [2.7]\n",
            " [3.2]\n",
            " [2. ]\n",
            " [3.8]\n",
            " [3.1]\n",
            " [3.3]\n",
            " [3. ]\n",
            " [2.9]\n",
            " [3.3]\n",
            " [3. ]\n",
            " [2.2]\n",
            " [2.8]\n",
            " [3.2]\n",
            " [3.2]\n",
            " [3.8]\n",
            " [2.5]\n",
            " [2.9]\n",
            " [2.3]\n",
            " [3.5]\n",
            " [3.5]\n",
            " [3.2]\n",
            " [3.4]\n",
            " [3. ]\n",
            " [3. ]\n",
            " [2.8]\n",
            " [4.1]\n",
            " [2.7]\n",
            " [3. ]\n",
            " [2.5]\n",
            " [2.6]\n",
            " [3.8]\n",
            " [2.3]\n",
            " [3.4]\n",
            " [3.2]\n",
            " [3.1]\n",
            " [3.4]\n",
            " [3.1]\n",
            " [3. ]\n",
            " [3.6]\n",
            " [2.6]\n",
            " [2.4]\n",
            " [2.7]\n",
            " [3.1]\n",
            " [3. ]\n",
            " [3. ]\n",
            " [3.4]\n",
            " [3.6]\n",
            " [3.2]\n",
            " [3. ]\n",
            " [3. ]\n",
            " [3.1]\n",
            " [2.5]\n",
            " [2.6]\n",
            " [2.9]\n",
            " [3.4]\n",
            " [3. ]\n",
            " [2.8]\n",
            " [3.1]\n",
            " [3. ]\n",
            " [4.4]\n",
            " [3. ]\n",
            " [3. ]\n",
            " [3. ]\n",
            " [2.7]\n",
            " [3.3]]\n"
          ]
        }
      ]
    },
    {
      "cell_type": "markdown",
      "source": [
        "**MODEL TRAINING**"
      ],
      "metadata": {
        "id": "Yzuf2_HOYAeM"
      }
    },
    {
      "cell_type": "code",
      "source": [
        "Regressor=LinearRegression()\n",
        "Regressor.fit(x_train,y_train)\n",
        "print(\"Model Successfuly Trained\")\n",
        "print(\"Optimal parameters:-\")\n",
        "print(\"Weight = \",Regressor.coef_)\n",
        "print(\"Bias = \",Regressor.intercept_)\n"
      ],
      "metadata": {
        "colab": {
          "base_uri": "https://localhost:8080/"
        },
        "id": "HkSJioEjYJWZ",
        "outputId": "30c31535-2e18-49a9-f26a-e108354d2a59"
      },
      "execution_count": 53,
      "outputs": [
        {
          "output_type": "stream",
          "name": "stdout",
          "text": [
            "Model Successfuly Trained\n",
            "Optimal parameters:-\n",
            "Weight =  [[-0.06740222]]\n",
            "Bias =  [3.47715019]\n"
          ]
        }
      ]
    },
    {
      "cell_type": "markdown",
      "source": [
        "**ASSESSING THE MODEL**"
      ],
      "metadata": {
        "id": "21fnQYUAY525"
      }
    },
    {
      "cell_type": "code",
      "source": [
        "data_pred=Regressor.predict(x_test)\n",
        "print(\"   PREDICTED SEPAL WIDTHS\")\n",
        "print()\n",
        "data_comparison=pd.DataFrame({'Actual':y_test.squeeze(),'Predicted':data_pred.squeeze()})\n",
        "print(data_comparison)"
      ],
      "metadata": {
        "colab": {
          "base_uri": "https://localhost:8080/"
        },
        "id": "Xvh_59R_aLAo",
        "outputId": "02037c20-70fb-44c7-92bf-19b89e99babc"
      },
      "execution_count": 54,
      "outputs": [
        {
          "output_type": "stream",
          "name": "stdout",
          "text": [
            "   PREDICTED SEPAL WIDTHS\n",
            "\n",
            "    Actual  Predicted\n",
            "0      3.8   2.958153\n",
            "1      2.5   3.092958\n",
            "2      2.7   3.072737\n",
            "3      2.8   3.065997\n",
            "4      2.9   3.092958\n",
            "5      3.2   3.160360\n",
            "6      2.2   3.072737\n",
            "7      3.2   2.991854\n",
            "8      3.2   3.167100\n",
            "9      2.8   3.092958\n",
            "10     2.8   2.978374\n",
            "11     3.1   3.167100\n",
            "12     3.1   3.012075\n",
            "13     3.8   3.133399\n",
            "14     3.4   3.113178\n",
            "15     2.8   3.065997\n",
            "16     3.0   2.998594\n",
            "17     3.1   3.045776\n",
            "18     3.1   3.025555\n",
            "19     2.8   3.086217\n",
            "20     2.8   3.045776\n",
            "21     3.0   3.065997\n",
            "22     2.6   3.106438\n",
            "23     2.9   3.052516\n",
            "24     2.5   3.106438\n",
            "25     3.0   3.039036\n",
            "26     3.0   3.140139\n",
            "27     2.5   3.025555\n",
            "28     2.9   3.065997\n",
            "29     2.7   3.052516\n"
          ]
        }
      ]
    },
    {
      "cell_type": "markdown",
      "source": [
        "**VISUALIZATION**"
      ],
      "metadata": {
        "id": "MxANffZScNRb"
      }
    },
    {
      "cell_type": "code",
      "source": [
        "print(\"Visualizing the regression model results\")\n",
        "plt.style.use('ggplot')\n",
        "plt.scatter(x=x_train,y=y_train,color='g',marker='o',label='Training Data')\n",
        "plt.scatter(x=x_test,y=y_test,color='m',marker='o',label='Testing Data')\n",
        "plt.plot(x_test,data_pred,color='b',label='Regression Line')\n",
        "plt.gca().set(title='SEPAL LENGTH AGAINST SEPAL WIDTH',xlabel='Sepal Length',ylabel='Sepal Width')\n",
        "plt.legend()\n",
        "plt.show()"
      ],
      "metadata": {
        "colab": {
          "base_uri": "https://localhost:8080/",
          "height": 494
        },
        "id": "iwJDNDw_cR4Y",
        "outputId": "2882d227-438e-4e8d-b650-e8b0959f254f"
      },
      "execution_count": 55,
      "outputs": [
        {
          "output_type": "stream",
          "name": "stdout",
          "text": [
            "Visualizing the regression model results\n"
          ]
        },
        {
          "output_type": "display_data",
          "data": {
            "text/plain": [
              "<Figure size 640x480 with 1 Axes>"
            ],
            "image/png": "[encoded data removed]"
          },
          "metadata": {}
        }
      ]
    },
    {
      "cell_type": "markdown",
      "source": [
        "**EVALUATING THE MODEL'S PERFORMANCE**"
      ],
      "metadata": {
        "id": "PBtT6s46ecYh"
      }
    },
    {
      "cell_type": "code",
      "source": [
        "print(\"Model Performance\")\n",
        "print(\"Mean Absolute Error = \",mean_absolute_error(y_test,data_pred))\n",
        "print(\"Mean Squared Error = \",mean_squared_error(y_test,data_pred))\n",
        "print(\"Root Mean Squared Error = \",np.sqrt(mean_squared_error(y_test,data_pred)))"
      ],
      "metadata": {
        "colab": {
          "base_uri": "https://localhost:8080/"
        },
        "id": "kRVzX7Pcelfh",
        "outputId": "3624d3c7-46d5-46f1-f2a7-8e5aae8626e7"
      },
      "execution_count": 56,
      "outputs": [
        {
          "output_type": "stream",
          "name": "stdout",
          "text": [
            "Model Performance\n",
            "Mean Absolute Error =  0.28274646170845463\n",
            "Mean Squared Error =  0.13646641555484493\n",
            "Root Mean Squared Error =  0.3694136104082319\n"
          ]
        }
      ]
    }
  ]
}