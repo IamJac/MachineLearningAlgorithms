{
  "nbformat": 4,
  "nbformat_minor": 0,
  "metadata": {
    "colab": {
      "provenance": [],
      "authorship_tag": "ABX9TyNJ02kr/xjNttftj6la5WmR",
      "include_colab_link": true
    },
    "kernelspec": {
      "name": "python3",
      "display_name": "Python 3"
    },
    "language_info": {
      "name": "python"
    }
  },
  "cells": [
    {
      "cell_type": "markdown",
      "metadata": {
        "id": "view-in-github",
        "colab_type": "text"
      },
      "source": [
        "<a href=\"https://colab.research.google.com/github/IamJac/MachineLearningAlgorithms/blob/main/LogisticRegression01.ipynb\" target=\"_parent\"><img src=\"https://colab.research.google.com/assets/colab-badge.svg\" alt=\"Open In Colab\"/></a>"
      ]
    },
    {
      "cell_type": "markdown",
      "source": [
        "**IMPORTING NECCESSARY MODULES**"
      ],
      "metadata": {
        "id": "xmwCHSJ0DneD"
      }
    },
    {
      "cell_type": "code",
      "execution_count": 1,
      "metadata": {
        "id": "TBkg297-CCAs"
      },
      "outputs": [],
      "source": [
        "import matplotlib.pyplot as plt\n",
        "import pandas as pd\n",
        "from sklearn.model_selection import train_test_split\n",
        "from sklearn.linear_model import LogisticRegression\n",
        "from sklearn.metrics import confusion_matrix,classification_report\n",
        "from sklearn import datasets"
      ]
    },
    {
      "cell_type": "markdown",
      "source": [
        "**LOADING DATA**"
      ],
      "metadata": {
        "id": "VFuXp0-zDwnR"
      }
    },
    {
      "cell_type": "code",
      "source": [
        "wine_data = datasets.load_wine()\n",
        "data=pd.DataFrame(wine_data.data,columns=wine_data.feature_names)\n",
        "print(\"Checking if data is correctly loaded\")\n",
        "print(data.head())\n",
        "print(data.tail())\n",
        "print(data.shape)"
      ],
      "metadata": {
        "colab": {
          "base_uri": "https://localhost:8080/"
        },
        "id": "G4ps5E59DlZW",
        "outputId": "c1d697e7-d73a-4f1a-d2c7-cb449e3639fd"
      },
      "execution_count": 3,
      "outputs": [
        {
          "output_type": "stream",
          "name": "stdout",
          "text": [
            "Checking if data is correctly loaded\n",
            "   alcohol  malic_acid   ash  alcalinity_of_ash  magnesium  total_phenols  \\\n",
            "0    14.23        1.71  2.43               15.6      127.0           2.80   \n",
            "1    13.20        1.78  2.14               11.2      100.0           2.65   \n",
            "2    13.16        2.36  2.67               18.6      101.0           2.80   \n",
            "3    14.37        1.95  2.50               16.8      113.0           3.85   \n",
            "4    13.24        2.59  2.87               21.0      118.0           2.80   \n",
            "\n",
            "   flavanoids  nonflavanoid_phenols  proanthocyanins  color_intensity   hue  \\\n",
            "0        3.06                  0.28             2.29             5.64  1.04   \n",
            "1        2.76                  0.26             1.28             4.38  1.05   \n",
            "2        3.24                  0.30             2.81             5.68  1.03   \n",
            "3        3.49                  0.24             2.18             7.80  0.86   \n",
            "4        2.69                  0.39             1.82             4.32  1.04   \n",
            "\n",
            "   od280/od315_of_diluted_wines  proline  \n",
            "0                          3.92   1065.0  \n",
            "1                          3.40   1050.0  \n",
            "2                          3.17   1185.0  \n",
            "3                          3.45   1480.0  \n",
            "4                          2.93    735.0  \n",
            "     alcohol  malic_acid   ash  alcalinity_of_ash  magnesium  total_phenols  \\\n",
            "173    13.71        5.65  2.45               20.5       95.0           1.68   \n",
            "174    13.40        3.91  2.48               23.0      102.0           1.80   \n",
            "175    13.27        4.28  2.26               20.0      120.0           1.59   \n",
            "176    13.17        2.59  2.37               20.0      120.0           1.65   \n",
            "177    14.13        4.10  2.74               24.5       96.0           2.05   \n",
            "\n",
            "     flavanoids  nonflavanoid_phenols  proanthocyanins  color_intensity   hue  \\\n",
            "173        0.61                  0.52             1.06              7.7  0.64   \n",
            "174        0.75                  0.43             1.41              7.3  0.70   \n",
            "175        0.69                  0.43             1.35             10.2  0.59   \n",
            "176        0.68                  0.53             1.46              9.3  0.60   \n",
            "177        0.76                  0.56             1.35              9.2  0.61   \n",
            "\n",
            "     od280/od315_of_diluted_wines  proline  \n",
            "173                          1.74    740.0  \n",
            "174                          1.56    750.0  \n",
            "175                          1.56    835.0  \n",
            "176                          1.62    840.0  \n",
            "177                          1.60    560.0  \n",
            "(178, 13)\n"
          ]
        }
      ]
    },
    {
      "cell_type": "markdown",
      "source": [
        "**EXPLORATORY DATA ANALYSIS**"
      ],
      "metadata": {
        "id": "Ea0w_BjdEbqk"
      }
    },
    {
      "cell_type": "code",
      "source": [
        "print(data.describe())\n",
        "print(\"Correlation of the features\")\n",
        "print(data.corr())\n",
        "print()\n",
        "print(\"Information of the dataset\")\n",
        "print(data.info())\n",
        "print(data.memory_usage(deep=True))\n",
        "print(wine_data.target_names)\n",
        "print(wine_data.target)"
      ],
      "metadata": {
        "colab": {
          "base_uri": "https://localhost:8080/"
        },
        "id": "pFDsIBQZEhRq",
        "outputId": "14334b83-a8b5-4c24-807f-66a351520164"
      },
      "execution_count": 7,
      "outputs": [
        {
          "output_type": "stream",
          "name": "stdout",
          "text": [
            "          alcohol  malic_acid         ash  alcalinity_of_ash   magnesium  \\\n",
            "count  178.000000  178.000000  178.000000         178.000000  178.000000   \n",
            "mean    13.000618    2.336348    2.366517          19.494944   99.741573   \n",
            "std      0.811827    1.117146    0.274344           3.339564   14.282484   \n",
            "min     11.030000    0.740000    1.360000          10.600000   70.000000   \n",
            "25%     12.362500    1.602500    2.210000          17.200000   88.000000   \n",
            "50%     13.050000    1.865000    2.360000          19.500000   98.000000   \n",
            "75%     13.677500    3.082500    2.557500          21.500000  107.000000   \n",
            "max     14.830000    5.800000    3.230000          30.000000  162.000000   \n",
            "\n",
            "       total_phenols  flavanoids  nonflavanoid_phenols  proanthocyanins  \\\n",
            "count     178.000000  178.000000            178.000000       178.000000   \n",
            "mean        2.295112    2.029270              0.361854         1.590899   \n",
            "std         0.625851    0.998859              0.124453         0.572359   \n",
            "min         0.980000    0.340000              0.130000         0.410000   \n",
            "25%         1.742500    1.205000              0.270000         1.250000   \n",
            "50%         2.355000    2.135000              0.340000         1.555000   \n",
            "75%         2.800000    2.875000              0.437500         1.950000   \n",
            "max         3.880000    5.080000              0.660000         3.580000   \n",
            "\n",
            "       color_intensity         hue  od280/od315_of_diluted_wines      proline  \n",
            "count       178.000000  178.000000                    178.000000   178.000000  \n",
            "mean          5.058090    0.957449                      2.611685   746.893258  \n",
            "std           2.318286    0.228572                      0.709990   314.907474  \n",
            "min           1.280000    0.480000                      1.270000   278.000000  \n",
            "25%           3.220000    0.782500                      1.937500   500.500000  \n",
            "50%           4.690000    0.965000                      2.780000   673.500000  \n",
            "75%           6.200000    1.120000                      3.170000   985.000000  \n",
            "max          13.000000    1.710000                      4.000000  1680.000000  \n",
            "Correlation of the features\n",
            "                               alcohol  malic_acid       ash  \\\n",
            "alcohol                       1.000000    0.094397  0.211545   \n",
            "malic_acid                    0.094397    1.000000  0.164045   \n",
            "ash                           0.211545    0.164045  1.000000   \n",
            "alcalinity_of_ash            -0.310235    0.288500  0.443367   \n",
            "magnesium                     0.270798   -0.054575  0.286587   \n",
            "total_phenols                 0.289101   -0.335167  0.128980   \n",
            "flavanoids                    0.236815   -0.411007  0.115077   \n",
            "nonflavanoid_phenols         -0.155929    0.292977  0.186230   \n",
            "proanthocyanins               0.136698   -0.220746  0.009652   \n",
            "color_intensity               0.546364    0.248985  0.258887   \n",
            "hue                          -0.071747   -0.561296 -0.074667   \n",
            "od280/od315_of_diluted_wines  0.072343   -0.368710  0.003911   \n",
            "proline                       0.643720   -0.192011  0.223626   \n",
            "\n",
            "                              alcalinity_of_ash  magnesium  total_phenols  \\\n",
            "alcohol                               -0.310235   0.270798       0.289101   \n",
            "malic_acid                             0.288500  -0.054575      -0.335167   \n",
            "ash                                    0.443367   0.286587       0.128980   \n",
            "alcalinity_of_ash                      1.000000  -0.083333      -0.321113   \n",
            "magnesium                             -0.083333   1.000000       0.214401   \n",
            "total_phenols                         -0.321113   0.214401       1.000000   \n",
            "flavanoids                            -0.351370   0.195784       0.864564   \n",
            "nonflavanoid_phenols                   0.361922  -0.256294      -0.449935   \n",
            "proanthocyanins                       -0.197327   0.236441       0.612413   \n",
            "color_intensity                        0.018732   0.199950      -0.055136   \n",
            "hue                                   -0.273955   0.055398       0.433681   \n",
            "od280/od315_of_diluted_wines          -0.276769   0.066004       0.699949   \n",
            "proline                               -0.440597   0.393351       0.498115   \n",
            "\n",
            "                              flavanoids  nonflavanoid_phenols  \\\n",
            "alcohol                         0.236815             -0.155929   \n",
            "malic_acid                     -0.411007              0.292977   \n",
            "ash                             0.115077              0.186230   \n",
            "alcalinity_of_ash              -0.351370              0.361922   \n",
            "magnesium                       0.195784             -0.256294   \n",
            "total_phenols                   0.864564             -0.449935   \n",
            "flavanoids                      1.000000             -0.537900   \n",
            "nonflavanoid_phenols           -0.537900              1.000000   \n",
            "proanthocyanins                 0.652692             -0.365845   \n",
            "color_intensity                -0.172379              0.139057   \n",
            "hue                             0.543479             -0.262640   \n",
            "od280/od315_of_diluted_wines    0.787194             -0.503270   \n",
            "proline                         0.494193             -0.311385   \n",
            "\n",
            "                              proanthocyanins  color_intensity       hue  \\\n",
            "alcohol                              0.136698         0.546364 -0.071747   \n",
            "malic_acid                          -0.220746         0.248985 -0.561296   \n",
            "ash                                  0.009652         0.258887 -0.074667   \n",
            "alcalinity_of_ash                   -0.197327         0.018732 -0.273955   \n",
            "magnesium                            0.236441         0.199950  0.055398   \n",
            "total_phenols                        0.612413        -0.055136  0.433681   \n",
            "flavanoids                           0.652692        -0.172379  0.543479   \n",
            "nonflavanoid_phenols                -0.365845         0.139057 -0.262640   \n",
            "proanthocyanins                      1.000000        -0.025250  0.295544   \n",
            "color_intensity                     -0.025250         1.000000 -0.521813   \n",
            "hue                                  0.295544        -0.521813  1.000000   \n",
            "od280/od315_of_diluted_wines         0.519067        -0.428815  0.565468   \n",
            "proline                              0.330417         0.316100  0.236183   \n",
            "\n",
            "                              od280/od315_of_diluted_wines   proline  \n",
            "alcohol                                           0.072343  0.643720  \n",
            "malic_acid                                       -0.368710 -0.192011  \n",
            "ash                                               0.003911  0.223626  \n",
            "alcalinity_of_ash                                -0.276769 -0.440597  \n",
            "magnesium                                         0.066004  0.393351  \n",
            "total_phenols                                     0.699949  0.498115  \n",
            "flavanoids                                        0.787194  0.494193  \n",
            "nonflavanoid_phenols                             -0.503270 -0.311385  \n",
            "proanthocyanins                                   0.519067  0.330417  \n",
            "color_intensity                                  -0.428815  0.316100  \n",
            "hue                                               0.565468  0.236183  \n",
            "od280/od315_of_diluted_wines                      1.000000  0.312761  \n",
            "proline                                           0.312761  1.000000  \n",
            "\n",
            "Information of the dataset\n",
            "<class 'pandas.core.frame.DataFrame'>\n",
            "RangeIndex: 178 entries, 0 to 177\n",
            "Data columns (total 13 columns):\n",
            " #   Column                        Non-Null Count  Dtype  \n",
            "---  ------                        --------------  -----  \n",
            " 0   alcohol                       178 non-null    float64\n",
            " 1   malic_acid                    178 non-null    float64\n",
            " 2   ash                           178 non-null    float64\n",
            " 3   alcalinity_of_ash             178 non-null    float64\n",
            " 4   magnesium                     178 non-null    float64\n",
            " 5   total_phenols                 178 non-null    float64\n",
            " 6   flavanoids                    178 non-null    float64\n",
            " 7   nonflavanoid_phenols          178 non-null    float64\n",
            " 8   proanthocyanins               178 non-null    float64\n",
            " 9   color_intensity               178 non-null    float64\n",
            " 10  hue                           178 non-null    float64\n",
            " 11  od280/od315_of_diluted_wines  178 non-null    float64\n",
            " 12  proline                       178 non-null    float64\n",
            "dtypes: float64(13)\n",
            "memory usage: 18.2 KB\n",
            "None\n",
            "Index                            128\n",
            "alcohol                         1424\n",
            "malic_acid                      1424\n",
            "ash                             1424\n",
            "alcalinity_of_ash               1424\n",
            "magnesium                       1424\n",
            "total_phenols                   1424\n",
            "flavanoids                      1424\n",
            "nonflavanoid_phenols            1424\n",
            "proanthocyanins                 1424\n",
            "color_intensity                 1424\n",
            "hue                             1424\n",
            "od280/od315_of_diluted_wines    1424\n",
            "proline                         1424\n",
            "dtype: int64\n",
            "['class_0' 'class_1' 'class_2']\n",
            "[0 0 0 0 0 0 0 0 0 0 0 0 0 0 0 0 0 0 0 0 0 0 0 0 0 0 0 0 0 0 0 0 0 0 0 0 0\n",
            " 0 0 0 0 0 0 0 0 0 0 0 0 0 0 0 0 0 0 0 0 0 0 1 1 1 1 1 1 1 1 1 1 1 1 1 1 1\n",
            " 1 1 1 1 1 1 1 1 1 1 1 1 1 1 1 1 1 1 1 1 1 1 1 1 1 1 1 1 1 1 1 1 1 1 1 1 1\n",
            " 1 1 1 1 1 1 1 1 1 1 1 1 1 1 1 1 1 1 1 2 2 2 2 2 2 2 2 2 2 2 2 2 2 2 2 2 2\n",
            " 2 2 2 2 2 2 2 2 2 2 2 2 2 2 2 2 2 2 2 2 2 2 2 2 2 2 2 2 2 2]\n"
          ]
        }
      ]
    },
    {
      "cell_type": "markdown",
      "source": [
        "**DATA PREPROCESSING**"
      ],
      "metadata": {
        "id": "Z5JLOjK6Hjef"
      }
    },
    {
      "cell_type": "code",
      "source": [
        "x=data[['alcohol','malic_acid','ash','alcalinity_of_ash','magnesium','total_phenols','flavanoids','nonflavanoid_phenols','proanthocyanins','color_intensity','hue','od280/od315_of_diluted_wines','proline']].values.reshape(-1,13)\n",
        "targets=pd.DataFrame(wine_data.target,columns=['target'])\n",
        "y=targets['target'].values.ravel()\n",
        "x_train,x_test,y_train,y_test=train_test_split(x,y,test_size=0.2,random_state=42)\n",
        "print(\"Training Data\")\n",
        "print(x_train.shape)\n",
        "print(x_train)\n",
        "print()\n",
        "print(y_train.shape)\n",
        "print(y_train)\n",
        "print()\n",
        "print(\"Testing Data\")\n",
        "print(x_test.shape)\n",
        "print(x_test)\n",
        "print()\n",
        "print(y_test.shape)\n",
        "print(y_test)"
      ],
      "metadata": {
        "colab": {
          "base_uri": "https://localhost:8080/"
        },
        "id": "AlWRmqOAICmg",
        "outputId": "09fcf7f3-9257-463a-a708-d4ff564e7476"
      },
      "execution_count": 28,
      "outputs": [
        {
          "output_type": "stream",
          "name": "stdout",
          "text": [
            "Training Data\n",
            "(142, 13)\n",
            "[[1.434e+01 1.680e+00 2.700e+00 ... 5.700e-01 1.960e+00 6.600e+02]\n",
            " [1.253e+01 5.510e+00 2.640e+00 ... 8.200e-01 1.690e+00 5.150e+02]\n",
            " [1.237e+01 1.070e+00 2.100e+00 ... 1.040e+00 2.770e+00 6.600e+02]\n",
            " ...\n",
            " [1.438e+01 1.870e+00 2.380e+00 ... 1.200e+00 3.000e+00 1.547e+03]\n",
            " [1.269e+01 1.530e+00 2.260e+00 ... 9.600e-01 2.060e+00 4.950e+02]\n",
            " [1.234e+01 2.450e+00 2.460e+00 ... 8.000e-01 3.380e+00 4.380e+02]]\n",
            "\n",
            "(142,)\n",
            "[2 2 1 2 0 1 1 1 2 0 1 1 2 0 1 0 0 2 2 1 1 0 1 0 2 1 1 2 0 0 0 2 0 0 1 2 1\n",
            " 0 2 1 0 2 1 1 0 1 0 0 1 0 0 2 1 1 1 0 1 1 1 2 2 0 1 2 2 1 1 0 1 2 2 1 2 1\n",
            " 1 1 0 0 2 0 2 0 0 1 1 0 0 0 1 0 1 2 1 1 1 2 2 1 0 0 1 2 2 0 1 2 2 2 2 1 0\n",
            " 1 0 2 0 0 1 0 0 2 1 0 2 2 0 0 2 2 2 1 1 1 1 1 1 2 0 1 1 0 1 1]\n",
            "\n",
            "Testing Data\n",
            "(36, 13)\n",
            "[[1.364000e+01 3.100000e+00 2.560000e+00 1.520000e+01 1.160000e+02\n",
            "  2.700000e+00 3.030000e+00 1.700000e-01 1.660000e+00 5.100000e+00\n",
            "  9.600000e-01 3.360000e+00 8.450000e+02]\n",
            " [1.421000e+01 4.040000e+00 2.440000e+00 1.890000e+01 1.110000e+02\n",
            "  2.850000e+00 2.650000e+00 3.000000e-01 1.250000e+00 5.240000e+00\n",
            "  8.700000e-01 3.330000e+00 1.080000e+03]\n",
            " [1.293000e+01 2.810000e+00 2.700000e+00 2.100000e+01 9.600000e+01\n",
            "  1.540000e+00 5.000000e-01 5.300000e-01 7.500000e-01 4.600000e+00\n",
            "  7.700000e-01 2.310000e+00 6.000000e+02]\n",
            " [1.373000e+01 1.500000e+00 2.700000e+00 2.250000e+01 1.010000e+02\n",
            "  3.000000e+00 3.250000e+00 2.900000e-01 2.380000e+00 5.700000e+00\n",
            "  1.190000e+00 2.710000e+00 1.285000e+03]\n",
            " [1.237000e+01 1.170000e+00 1.920000e+00 1.960000e+01 7.800000e+01\n",
            "  2.110000e+00 2.000000e+00 2.700000e-01 1.040000e+00 4.680000e+00\n",
            "  1.120000e+00 3.480000e+00 5.100000e+02]\n",
            " [1.430000e+01 1.920000e+00 2.720000e+00 2.000000e+01 1.200000e+02\n",
            "  2.800000e+00 3.140000e+00 3.300000e-01 1.970000e+00 6.200000e+00\n",
            "  1.070000e+00 2.650000e+00 1.280000e+03]\n",
            " [1.200000e+01 3.430000e+00 2.000000e+00 1.900000e+01 8.700000e+01\n",
            "  2.000000e+00 1.640000e+00 3.700000e-01 1.870000e+00 1.280000e+00\n",
            "  9.300000e-01 3.050000e+00 5.640000e+02]\n",
            " [1.340000e+01 3.910000e+00 2.480000e+00 2.300000e+01 1.020000e+02\n",
            "  1.800000e+00 7.500000e-01 4.300000e-01 1.410000e+00 7.300000e+00\n",
            "  7.000000e-01 1.560000e+00 7.500000e+02]\n",
            " [1.161000e+01 1.350000e+00 2.700000e+00 2.000000e+01 9.400000e+01\n",
            "  2.740000e+00 2.920000e+00 2.900000e-01 2.490000e+00 2.650000e+00\n",
            "  9.600000e-01 3.260000e+00 6.800000e+02]\n",
            " [1.336000e+01 2.560000e+00 2.350000e+00 2.000000e+01 8.900000e+01\n",
            "  1.400000e+00 5.000000e-01 3.700000e-01 6.400000e-01 5.600000e+00\n",
            "  7.000000e-01 2.470000e+00 7.800000e+02]\n",
            " [1.350000e+01 1.810000e+00 2.610000e+00 2.000000e+01 9.600000e+01\n",
            "  2.530000e+00 2.610000e+00 2.800000e-01 1.660000e+00 3.520000e+00\n",
            "  1.120000e+00 3.820000e+00 8.450000e+02]\n",
            " [1.350000e+01 3.120000e+00 2.620000e+00 2.400000e+01 1.230000e+02\n",
            "  1.400000e+00 1.570000e+00 2.200000e-01 1.250000e+00 8.600000e+00\n",
            "  5.900000e-01 1.300000e+00 5.000000e+02]\n",
            " [1.341000e+01 3.840000e+00 2.120000e+00 1.880000e+01 9.000000e+01\n",
            "  2.450000e+00 2.680000e+00 2.700000e-01 1.480000e+00 4.280000e+00\n",
            "  9.100000e-01 3.000000e+00 1.035000e+03]\n",
            " [1.277000e+01 3.430000e+00 1.980000e+00 1.600000e+01 8.000000e+01\n",
            "  1.630000e+00 1.250000e+00 4.300000e-01 8.300000e-01 3.400000e+00\n",
            "  7.000000e-01 2.120000e+00 3.720000e+02]\n",
            " [1.363000e+01 1.810000e+00 2.700000e+00 1.720000e+01 1.120000e+02\n",
            "  2.850000e+00 2.910000e+00 3.000000e-01 1.460000e+00 7.300000e+00\n",
            "  1.280000e+00 2.880000e+00 1.310000e+03]\n",
            " [1.252000e+01 2.430000e+00 2.170000e+00 2.100000e+01 8.800000e+01\n",
            "  2.550000e+00 2.270000e+00 2.600000e-01 1.220000e+00 2.000000e+00\n",
            "  9.000000e-01 2.780000e+00 3.250000e+02]\n",
            " [1.141000e+01 7.400000e-01 2.500000e+00 2.100000e+01 8.800000e+01\n",
            "  2.480000e+00 2.010000e+00 4.200000e-01 1.440000e+00 3.080000e+00\n",
            "  1.100000e+00 2.310000e+00 4.340000e+02]\n",
            " [1.208000e+01 1.130000e+00 2.510000e+00 2.400000e+01 7.800000e+01\n",
            "  2.000000e+00 1.580000e+00 4.000000e-01 1.400000e+00 2.200000e+00\n",
            "  1.310000e+00 2.720000e+00 6.300000e+02]\n",
            " [1.386000e+01 1.350000e+00 2.270000e+00 1.600000e+01 9.800000e+01\n",
            "  2.980000e+00 3.150000e+00 2.200000e-01 1.850000e+00 7.220000e+00\n",
            "  1.010000e+00 3.550000e+00 1.045000e+03]\n",
            " [1.208000e+01 1.390000e+00 2.500000e+00 2.250000e+01 8.400000e+01\n",
            "  2.560000e+00 2.290000e+00 4.300000e-01 1.040000e+00 2.900000e+00\n",
            "  9.300000e-01 3.190000e+00 3.850000e+02]\n",
            " [1.419000e+01 1.590000e+00 2.480000e+00 1.650000e+01 1.080000e+02\n",
            "  3.300000e+00 3.930000e+00 3.200000e-01 1.860000e+00 8.700000e+00\n",
            "  1.230000e+00 2.820000e+00 1.680000e+03]\n",
            " [1.311000e+01 1.010000e+00 1.700000e+00 1.500000e+01 7.800000e+01\n",
            "  2.980000e+00 3.180000e+00 2.600000e-01 2.280000e+00 5.300000e+00\n",
            "  1.120000e+00 3.180000e+00 5.020000e+02]\n",
            " [1.233000e+01 1.100000e+00 2.280000e+00 1.600000e+01 1.010000e+02\n",
            "  2.050000e+00 1.090000e+00 6.300000e-01 4.100000e-01 3.270000e+00\n",
            "  1.250000e+00 1.670000e+00 6.800000e+02]\n",
            " [1.340000e+01 4.600000e+00 2.860000e+00 2.500000e+01 1.120000e+02\n",
            "  1.980000e+00 9.600000e-01 2.700000e-01 1.110000e+00 8.500000e+00\n",
            "  6.700000e-01 1.920000e+00 6.300000e+02]\n",
            " [1.277000e+01 2.390000e+00 2.280000e+00 1.950000e+01 8.600000e+01\n",
            "  1.390000e+00 5.100000e-01 4.800000e-01 6.400000e-01 9.899999e+00\n",
            "  5.700000e-01 1.630000e+00 4.700000e+02]\n",
            " [1.378000e+01 2.760000e+00 2.300000e+00 2.200000e+01 9.000000e+01\n",
            "  1.350000e+00 6.800000e-01 4.100000e-01 1.030000e+00 9.580000e+00\n",
            "  7.000000e-01 1.680000e+00 6.150000e+02]\n",
            " [1.242000e+01 1.610000e+00 2.190000e+00 2.250000e+01 1.080000e+02\n",
            "  2.000000e+00 2.090000e+00 3.400000e-01 1.610000e+00 2.060000e+00\n",
            "  1.060000e+00 2.960000e+00 3.450000e+02]\n",
            " [1.237000e+01 1.210000e+00 2.560000e+00 1.810000e+01 9.800000e+01\n",
            "  2.420000e+00 2.650000e+00 3.700000e-01 2.080000e+00 4.600000e+00\n",
            "  1.190000e+00 2.300000e+00 6.780000e+02]\n",
            " [1.208000e+01 1.830000e+00 2.320000e+00 1.850000e+01 8.100000e+01\n",
            "  1.600000e+00 1.500000e+00 5.200000e-01 1.640000e+00 2.400000e+00\n",
            "  1.080000e+00 2.270000e+00 4.800000e+02]\n",
            " [1.356000e+01 1.730000e+00 2.460000e+00 2.050000e+01 1.160000e+02\n",
            "  2.960000e+00 2.780000e+00 2.000000e-01 2.450000e+00 6.250000e+00\n",
            "  9.800000e-01 3.030000e+00 1.120000e+03]\n",
            " [1.402000e+01 1.680000e+00 2.210000e+00 1.600000e+01 9.600000e+01\n",
            "  2.650000e+00 2.330000e+00 2.600000e-01 1.980000e+00 4.700000e+00\n",
            "  1.040000e+00 3.590000e+00 1.035000e+03]\n",
            " [1.237000e+01 1.630000e+00 2.300000e+00 2.450000e+01 8.800000e+01\n",
            "  2.220000e+00 2.450000e+00 4.000000e-01 1.900000e+00 2.120000e+00\n",
            "  8.900000e-01 2.780000e+00 3.420000e+02]\n",
            " [1.316000e+01 3.570000e+00 2.150000e+00 2.100000e+01 1.020000e+02\n",
            "  1.500000e+00 5.500000e-01 4.300000e-01 1.300000e+00 4.000000e+00\n",
            "  6.000000e-01 1.680000e+00 8.300000e+02]\n",
            " [1.358000e+01 1.660000e+00 2.360000e+00 1.910000e+01 1.060000e+02\n",
            "  2.860000e+00 3.190000e+00 2.200000e-01 1.950000e+00 6.900000e+00\n",
            "  1.090000e+00 2.880000e+00 1.515000e+03]\n",
            " [1.375000e+01 1.730000e+00 2.410000e+00 1.600000e+01 8.900000e+01\n",
            "  2.600000e+00 2.760000e+00 2.900000e-01 1.810000e+00 5.600000e+00\n",
            "  1.150000e+00 2.900000e+00 1.320000e+03]\n",
            " [1.388000e+01 1.890000e+00 2.590000e+00 1.500000e+01 1.010000e+02\n",
            "  3.250000e+00 3.560000e+00 1.700000e-01 1.700000e+00 5.430000e+00\n",
            "  8.800000e-01 3.560000e+00 1.095000e+03]]\n",
            "\n",
            "(36,)\n",
            "[0 0 2 0 1 0 1 2 1 2 0 2 0 1 0 1 1 1 0 1 0 1 1 2 2 2 1 1 1 0 0 1 2 0 0 0]\n"
          ]
        }
      ]
    },
    {
      "cell_type": "markdown",
      "source": [
        "**MODEL TRAINING**"
      ],
      "metadata": {
        "id": "owM5H8SiO4Rb"
      }
    },
    {
      "cell_type": "code",
      "source": [
        "Model=LogisticRegression(solver='saga',penalty='elasticnet',l1_ratio=0.5,C=1,max_iter=100000)\n",
        "print(\"Model created\")\n",
        "Model.fit(x_train,y_train)\n",
        "print(\"Model trained successfully\")\n",
        "print(\"Optimal Parameters obtained\")\n",
        "print(\"Weight\",Model.coef_)\n",
        "print(\"Bias=\",Model.intercept_)"
      ],
      "metadata": {
        "colab": {
          "base_uri": "https://localhost:8080/"
        },
        "id": "9dpJrvLwO85s",
        "outputId": "72fb26bb-2550-4321-8ed9-c02096e2f2a6"
      },
      "execution_count": 71,
      "outputs": [
        {
          "output_type": "stream",
          "name": "stdout",
          "text": [
            "Model created\n",
            "Model trained successfully\n",
            "Optimal Parameters obtained\n",
            "Weight [[-4.11613599e-02 -8.17333302e-03 -2.39873364e-04 -1.85308468e-01\n",
            "  -2.23979429e-02  1.33197480e-02  4.15505254e-02 -2.77429320e-03\n",
            "   8.47875469e-03 -3.44498385e-02  0.00000000e+00  2.01526929e-02\n",
            "   9.08559939e-03]\n",
            " [ 2.92734344e-02 -7.84146507e-02 -2.30097800e-03  1.09230032e-01\n",
            "   2.37966810e-02  3.80325891e-02  6.91710561e-02  0.00000000e+00\n",
            "   3.37385549e-02 -2.05882742e-01  2.68928340e-02  7.46912226e-02\n",
            "  -4.76164175e-03]\n",
            " [ 9.55060929e-03  8.89116286e-02  4.03261274e-03  7.37411024e-02\n",
            "  -1.81127841e-03 -5.35467228e-02 -1.13058863e-01  3.79660137e-03\n",
            "  -4.43720531e-02  2.42669984e-01 -2.59187059e-02 -9.70624014e-02\n",
            "  -1.98697460e-03]]\n",
            "Bias= [-0.00607109  0.00801753 -0.00194644]\n"
          ]
        }
      ]
    },
    {
      "cell_type": "markdown",
      "source": [
        "**ASSESSING THE MODEL**"
      ],
      "metadata": {
        "id": "sUS_lWj1aCH7"
      }
    },
    {
      "cell_type": "code",
      "source": [
        "data_pred=Model.predict_proba(x_test)\n",
        "data_p=pd.DataFrame(data_pred,columns=Model.classes_)\n",
        "print(data_p)\n",
        "predictions=Model.predict(x_test)\n",
        "data1=pd.DataFrame({\"Actual\":y_test.squeeze(),\"Predicted\":predictions.squeeze(),\"Probability\":data_pred.max(axis=1)})\n",
        "print(data1)"
      ],
      "metadata": {
        "colab": {
          "base_uri": "https://localhost:8080/"
        },
        "id": "2AtH2AJwcMZ6",
        "outputId": "08a17a5e-4cad-4103-ec72-e5dbb13c22c2"
      },
      "execution_count": 72,
      "outputs": [
        {
          "output_type": "stream",
          "name": "stdout",
          "text": [
            "           0         1         2\n",
            "0   0.726691  0.148787  0.124522\n",
            "1   0.947679  0.016482  0.035839\n",
            "2   0.040410  0.474833  0.484757\n",
            "3   0.991693  0.002006  0.006301\n",
            "4   0.041804  0.600808  0.357388\n",
            "5   0.991010  0.002239  0.006751\n",
            "6   0.062118  0.783302  0.154580\n",
            "7   0.074196  0.154491  0.771313\n",
            "8   0.155829  0.705232  0.138939\n",
            "9   0.345440  0.160070  0.494490\n",
            "10  0.585323  0.281878  0.132799\n",
            "11  0.001625  0.322425  0.675950\n",
            "12  0.958794  0.012682  0.028524\n",
            "13  0.017633  0.628837  0.353529\n",
            "14  0.996976  0.000359  0.002665\n",
            "15  0.001419  0.907831  0.090750\n",
            "16  0.006991  0.835360  0.157649\n",
            "17  0.051583  0.740925  0.207491\n",
            "18  0.972273  0.005645  0.022082\n",
            "19  0.002645  0.868567  0.128788\n",
            "20  0.999957  0.000001  0.000041\n",
            "21  0.126949  0.539971  0.333080\n",
            "22  0.299705  0.456010  0.244285\n",
            "23  0.007222  0.179354  0.813424\n",
            "24  0.007165  0.080740  0.912095\n",
            "25  0.018031  0.077237  0.904733\n",
            "26  0.000476  0.947759  0.051765\n",
            "27  0.219268  0.497999  0.282733\n",
            "28  0.032468  0.750829  0.216702\n",
            "29  0.944477  0.018420  0.037103\n",
            "30  0.977056  0.008825  0.014119\n",
            "31  0.000627  0.924321  0.075052\n",
            "32  0.371611  0.248622  0.379767\n",
            "33  0.999641  0.000031  0.000328\n",
            "34  0.999203  0.000103  0.000695\n",
            "35  0.990384  0.003260  0.006356\n",
            "    Actual  Predicted  Probability\n",
            "0        0          0     0.726691\n",
            "1        0          0     0.947679\n",
            "2        2          2     0.484757\n",
            "3        0          0     0.991693\n",
            "4        1          1     0.600808\n",
            "5        0          0     0.991010\n",
            "6        1          1     0.783302\n",
            "7        2          2     0.771313\n",
            "8        1          1     0.705232\n",
            "9        2          2     0.494490\n",
            "10       0          0     0.585323\n",
            "11       2          2     0.675950\n",
            "12       0          0     0.958794\n",
            "13       1          1     0.628837\n",
            "14       0          0     0.996976\n",
            "15       1          1     0.907831\n",
            "16       1          1     0.835360\n",
            "17       1          1     0.740925\n",
            "18       0          0     0.972273\n",
            "19       1          1     0.868567\n",
            "20       0          0     0.999957\n",
            "21       1          1     0.539971\n",
            "22       1          1     0.456010\n",
            "23       2          2     0.813424\n",
            "24       2          2     0.912095\n",
            "25       2          2     0.904733\n",
            "26       1          1     0.947759\n",
            "27       1          1     0.497999\n",
            "28       1          1     0.750829\n",
            "29       0          0     0.944477\n",
            "30       0          0     0.977056\n",
            "31       1          1     0.924321\n",
            "32       2          2     0.379767\n",
            "33       0          0     0.999641\n",
            "34       0          0     0.999203\n",
            "35       0          0     0.990384\n"
          ]
        }
      ]
    },
    {
      "cell_type": "markdown",
      "source": [
        "**MODEL EVALUATION**"
      ],
      "metadata": {
        "id": "8szFu_61czE-"
      }
    },
    {
      "cell_type": "code",
      "source": [
        "print(\"Model Evaluation\")\n",
        "print(\"1) Confusion Matrix\")\n",
        "print(confusion_matrix(y_test,predictions))\n",
        "print()\n",
        "print(\"2) Classification Report\")\n",
        "print(classification_report(y_test,predictions))\n",
        "accuracy= (Model.score(x_test,y_test))*100\n",
        "print(\"3) Accuracy of the model in classifying the wines=\",accuracy,\" %\")"
      ],
      "metadata": {
        "colab": {
          "base_uri": "https://localhost:8080/"
        },
        "id": "_FXWeA8ddKKw",
        "outputId": "b0fd3990-9778-40e2-fd54-5d64aba111fb"
      },
      "execution_count": 73,
      "outputs": [
        {
          "output_type": "stream",
          "name": "stdout",
          "text": [
            "Model Evaluation\n",
            "1) Confusion Matrix\n",
            "[[14  0  0]\n",
            " [ 0 14  0]\n",
            " [ 0  0  8]]\n",
            "\n",
            "2) Classification Report\n",
            "              precision    recall  f1-score   support\n",
            "\n",
            "           0       1.00      1.00      1.00        14\n",
            "           1       1.00      1.00      1.00        14\n",
            "           2       1.00      1.00      1.00         8\n",
            "\n",
            "    accuracy                           1.00        36\n",
            "   macro avg       1.00      1.00      1.00        36\n",
            "weighted avg       1.00      1.00      1.00        36\n",
            "\n",
            "3) Accuracy of the model in classifying the wines= 100.0  %\n"
          ]
        }
      ]
    }
  ]
}