{
  "nbformat": 4,
  "nbformat_minor": 0,
  "metadata": {
    "colab": {
      "provenance": [],
      "authorship_tag": "ABX9TyOU6qDwmsXspgStxTiRArP/",
      "include_colab_link": true
    },
    "kernelspec": {
      "name": "python3",
      "display_name": "Python 3"
    },
    "language_info": {
      "name": "python"
    }
  },
  "cells": [
    {
      "cell_type": "markdown",
      "metadata": {
        "id": "view-in-github",
        "colab_type": "text"
      },
      "source": [
        "<a href=\"https://colab.research.google.com/github/IamJac/MachineLearningAlgorithms/blob/main/MultipleLinearRegression01.ipynb\" target=\"_parent\"><img src=\"https://colab.research.google.com/assets/colab-badge.svg\" alt=\"Open In Colab\"/></a>"
      ]
    },
    {
      "cell_type": "code",
      "execution_count": 31,
      "metadata": {
        "id": "L_80qDgLmzj6"
      },
      "outputs": [],
      "source": [
        "import pandas as pd\n",
        "from matplotlib import pyplot as plt\n",
        "from sklearn import datasets\n",
        "from sklearn.model_selection import train_test_split\n",
        "from sklearn import linear_model\n",
        "from sklearn.metrics import mean_absolute_error,mean_squared_error,root_mean_squared_error"
      ]
    },
    {
      "cell_type": "code",
      "source": [
        "iris=datasets.load_iris()\n",
        "print(iris.data.shape)\n",
        "df=pd.DataFrame(iris.data,columns=iris.feature_names)\n",
        "print(df.head())\n",
        "print(df.tail())"
      ],
      "metadata": {
        "colab": {
          "base_uri": "https://localhost:8080/"
        },
        "id": "saA7NU1loHZU",
        "outputId": "938ce228-69ca-4010-80ea-b9e920bc8f94"
      },
      "execution_count": 32,
      "outputs": [
        {
          "output_type": "stream",
          "name": "stdout",
          "text": [
            "(150, 4)\n",
            "   sepal length (cm)  sepal width (cm)  petal length (cm)  petal width (cm)\n",
            "0                5.1               3.5                1.4               0.2\n",
            "1                4.9               3.0                1.4               0.2\n",
            "2                4.7               3.2                1.3               0.2\n",
            "3                4.6               3.1                1.5               0.2\n",
            "4                5.0               3.6                1.4               0.2\n",
            "     sepal length (cm)  sepal width (cm)  petal length (cm)  petal width (cm)\n",
            "145                6.7               3.0                5.2               2.3\n",
            "146                6.3               2.5                5.0               1.9\n",
            "147                6.5               3.0                5.2               2.0\n",
            "148                6.2               3.4                5.4               2.3\n",
            "149                5.9               3.0                5.1               1.8\n"
          ]
        }
      ]
    },
    {
      "cell_type": "code",
      "source": [
        "print(df.describe())\n",
        "print(df.corr())\n",
        "print(df.shape)\n",
        "print(df.memory_usage(deep=True))\n",
        "plt.style.use('ggplot')\n",
        "plt.scatter(x=df['petal length (cm)'],y=df['petal width (cm)'])\n",
        "plt.scatter(x=df['sepal width (cm)'],y=df['petal width (cm)'])\n",
        "plt.scatter(x=df['sepal length (cm)'],y=df['petal width (cm)'])\n",
        "plt.xlabel('sepal length,sepal width,petal length (cm)')\n",
        "plt.ylabel('sepal width (cm)')\n",
        "plt.title('scatter plot')\n",
        "plt.show()"
      ],
      "metadata": {
        "colab": {
          "base_uri": "https://localhost:8080/",
          "height": 842
        },
        "id": "5lMME_dvpC24",
        "outputId": "bf65d7f9-aaf4-43a0-d648-acd7bfac7f58"
      },
      "execution_count": 33,
      "outputs": [
        {
          "output_type": "stream",
          "name": "stdout",
          "text": [
            "       sepal length (cm)  sepal width (cm)  petal length (cm)  petal width (cm)\n",
            "count         150.000000        150.000000         150.000000        150.000000\n",
            "mean            5.843333          3.057333           3.758000          1.199333\n",
            "std             0.828066          0.435866           1.765298          0.762238\n",
            "min             4.300000          2.000000           1.000000          0.100000\n",
            "25%             5.100000          2.800000           1.600000          0.300000\n",
            "50%             5.800000          3.000000           4.350000          1.300000\n",
            "75%             6.400000          3.300000           5.100000          1.800000\n",
            "max             7.900000          4.400000           6.900000          2.500000\n",
            "                   sepal length (cm)  sepal width (cm)  petal length (cm)  petal width (cm)\n",
            "sepal length (cm)           1.000000         -0.117570           0.871754          0.817941\n",
            "sepal width (cm)           -0.117570          1.000000          -0.428440         -0.366126\n",
            "petal length (cm)           0.871754         -0.428440           1.000000          0.962865\n",
            "petal width (cm)            0.817941         -0.366126           0.962865          1.000000\n",
            "(150, 4)\n",
            "Index                 128\n",
            "sepal length (cm)    1200\n",
            "sepal width (cm)     1200\n",
            "petal length (cm)    1200\n",
            "petal width (cm)     1200\n",
            "dtype: int64\n"
          ]
        },
        {
          "output_type": "display_data",
          "data": {
            "text/plain": [
              "<Figure size 640x480 with 1 Axes>"
            ],
            "image/png": "[encoded data removed]"
          },
          "metadata": {}
        }
      ]
    },
    {
      "cell_type": "code",
      "source": [
        "x_data=df[['sepal length (cm)','sepal width (cm)','petal length (cm)']].values.reshape(-1,3)\n",
        "y_data=df['petal width (cm)'].values.reshape(-1,1)\n",
        "x_train,x_test,y_train,y_test=train_test_split(x_data,y_data,test_size=0.2)\n",
        "print(x_train)\n",
        "print()\n",
        "print(y_train)"
      ],
      "metadata": {
        "colab": {
          "base_uri": "https://localhost:8080/"
        },
        "id": "-UpgqbVUpa78",
        "outputId": "762bf1e5-20d9-4413-af2d-db857cd95785"
      },
      "execution_count": 34,
      "outputs": [
        {
          "output_type": "stream",
          "name": "stdout",
          "text": [
            "[[7.6 3.  6.6]\n",
            " [6.3 2.9 5.6]\n",
            " [5.7 4.4 1.5]\n",
            " [6.  2.2 5. ]\n",
            " [5.4 3.9 1.3]\n",
            " [4.7 3.2 1.6]\n",
            " [5.  3.6 1.4]\n",
            " [7.7 3.8 6.7]\n",
            " [5.7 3.8 1.7]\n",
            " [6.2 2.8 4.8]\n",
            " [4.9 3.1 1.5]\n",
            " [6.1 3.  4.6]\n",
            " [5.3 3.7 1.5]\n",
            " [6.6 3.  4.4]\n",
            " [5.7 2.5 5. ]\n",
            " [6.5 3.  5.2]\n",
            " [6.1 3.  4.9]\n",
            " [6.7 3.1 4.4]\n",
            " [5.7 2.9 4.2]\n",
            " [6.7 3.1 4.7]\n",
            " [6.3 3.3 4.7]\n",
            " [7.  3.2 4.7]\n",
            " [6.7 3.3 5.7]\n",
            " [4.4 3.2 1.3]\n",
            " [5.  3.  1.6]\n",
            " [5.1 2.5 3. ]\n",
            " [4.7 3.2 1.3]\n",
            " [5.6 3.  4.1]\n",
            " [5.5 2.4 3.7]\n",
            " [6.7 3.1 5.6]\n",
            " [4.8 3.  1.4]\n",
            " [6.3 2.8 5.1]\n",
            " [6.9 3.1 5.4]\n",
            " [5.7 2.8 4.1]\n",
            " [5.  2.3 3.3]\n",
            " [6.1 2.8 4. ]\n",
            " [7.2 3.2 6. ]\n",
            " [5.  3.2 1.2]\n",
            " [5.7 2.8 4.5]\n",
            " [6.5 3.  5.8]\n",
            " [5.1 3.7 1.5]\n",
            " [4.3 3.  1.1]\n",
            " [6.7 3.  5.2]\n",
            " [6.5 2.8 4.6]\n",
            " [5.4 3.9 1.7]\n",
            " [6.  2.9 4.5]\n",
            " [7.2 3.6 6.1]\n",
            " [7.2 3.  5.8]\n",
            " [5.5 2.3 4. ]\n",
            " [6.  3.4 4.5]\n",
            " [6.  2.2 4. ]\n",
            " [6.1 2.6 5.6]\n",
            " [6.8 3.2 5.9]\n",
            " [7.9 3.8 6.4]\n",
            " [6.4 3.2 5.3]\n",
            " [4.9 2.4 3.3]\n",
            " [5.6 2.8 4.9]\n",
            " [6.5 3.  5.5]\n",
            " [5.6 2.9 3.6]\n",
            " [5.4 3.4 1.5]\n",
            " [6.8 3.  5.5]\n",
            " [6.4 2.9 4.3]\n",
            " [7.4 2.8 6.1]\n",
            " [5.6 2.7 4.2]\n",
            " [6.3 2.5 4.9]\n",
            " [5.1 3.5 1.4]\n",
            " [6.2 3.4 5.4]\n",
            " [5.  3.5 1.3]\n",
            " [5.9 3.  5.1]\n",
            " [5.7 3.  4.2]\n",
            " [7.7 2.8 6.7]\n",
            " [5.4 3.7 1.5]\n",
            " [6.3 3.4 5.6]\n",
            " [5.  3.4 1.5]\n",
            " [4.9 3.1 1.5]\n",
            " [5.5 3.5 1.3]\n",
            " [4.4 2.9 1.4]\n",
            " [5.1 3.4 1.5]\n",
            " [5.5 2.6 4.4]\n",
            " [5.7 2.6 3.5]\n",
            " [4.9 3.6 1.4]\n",
            " [5.8 4.  1.2]\n",
            " [4.8 3.4 1.6]\n",
            " [5.  2.  3.5]\n",
            " [5.2 3.4 1.4]\n",
            " [5.2 2.7 3.9]\n",
            " [5.8 2.8 5.1]\n",
            " [4.9 3.  1.4]\n",
            " [6.4 2.8 5.6]\n",
            " [6.9 3.2 5.7]\n",
            " [5.1 3.8 1.9]\n",
            " [4.6 3.1 1.5]\n",
            " [6.6 2.9 4.6]\n",
            " [5.8 2.7 5.1]\n",
            " [6.3 3.3 6. ]\n",
            " [5.4 3.4 1.7]\n",
            " [6.  3.  4.8]\n",
            " [6.3 2.3 4.4]\n",
            " [5.9 3.2 4.8]\n",
            " [5.1 3.8 1.5]\n",
            " [6.1 2.8 4.7]\n",
            " [5.6 2.5 3.9]\n",
            " [4.8 3.  1.4]\n",
            " [5.2 3.5 1.5]\n",
            " [6.3 2.7 4.9]\n",
            " [6.4 3.1 5.5]\n",
            " [5.5 2.4 3.8]\n",
            " [7.1 3.  5.9]\n",
            " [5.9 3.  4.2]\n",
            " [6.4 2.7 5.3]\n",
            " [4.6 3.2 1.4]\n",
            " [6.7 3.3 5.7]\n",
            " [5.4 3.  4.5]\n",
            " [7.3 2.9 6.3]\n",
            " [6.5 3.2 5.1]\n",
            " [5.8 2.7 4.1]\n",
            " [6.1 2.9 4.7]\n",
            " [5.8 2.7 5.1]\n",
            " [5.5 4.2 1.4]\n",
            " [5.  3.4 1.6]]\n",
            "\n",
            "[[2.1]\n",
            " [1.8]\n",
            " [0.4]\n",
            " [1.5]\n",
            " [0.4]\n",
            " [0.2]\n",
            " [0.2]\n",
            " [2.2]\n",
            " [0.3]\n",
            " [1.8]\n",
            " [0.1]\n",
            " [1.4]\n",
            " [0.2]\n",
            " [1.4]\n",
            " [2. ]\n",
            " [2. ]\n",
            " [1.8]\n",
            " [1.4]\n",
            " [1.3]\n",
            " [1.5]\n",
            " [1.6]\n",
            " [1.4]\n",
            " [2.1]\n",
            " [0.2]\n",
            " [0.2]\n",
            " [1.1]\n",
            " [0.2]\n",
            " [1.3]\n",
            " [1. ]\n",
            " [2.4]\n",
            " [0.1]\n",
            " [1.5]\n",
            " [2.1]\n",
            " [1.3]\n",
            " [1. ]\n",
            " [1.3]\n",
            " [1.8]\n",
            " [0.2]\n",
            " [1.3]\n",
            " [2.2]\n",
            " [0.4]\n",
            " [0.1]\n",
            " [2.3]\n",
            " [1.5]\n",
            " [0.4]\n",
            " [1.5]\n",
            " [2.5]\n",
            " [1.6]\n",
            " [1.3]\n",
            " [1.6]\n",
            " [1. ]\n",
            " [1.4]\n",
            " [2.3]\n",
            " [2. ]\n",
            " [2.3]\n",
            " [1. ]\n",
            " [2. ]\n",
            " [1.8]\n",
            " [1.3]\n",
            " [0.4]\n",
            " [2.1]\n",
            " [1.3]\n",
            " [1.9]\n",
            " [1.3]\n",
            " [1.5]\n",
            " [0.3]\n",
            " [2.3]\n",
            " [0.3]\n",
            " [1.8]\n",
            " [1.2]\n",
            " [2. ]\n",
            " [0.2]\n",
            " [2.4]\n",
            " [0.2]\n",
            " [0.2]\n",
            " [0.2]\n",
            " [0.2]\n",
            " [0.2]\n",
            " [1.2]\n",
            " [1. ]\n",
            " [0.1]\n",
            " [0.2]\n",
            " [0.2]\n",
            " [1. ]\n",
            " [0.2]\n",
            " [1.4]\n",
            " [2.4]\n",
            " [0.2]\n",
            " [2.1]\n",
            " [2.3]\n",
            " [0.4]\n",
            " [0.2]\n",
            " [1.3]\n",
            " [1.9]\n",
            " [2.5]\n",
            " [0.2]\n",
            " [1.8]\n",
            " [1.3]\n",
            " [1.8]\n",
            " [0.3]\n",
            " [1.2]\n",
            " [1.1]\n",
            " [0.3]\n",
            " [0.2]\n",
            " [1.8]\n",
            " [1.8]\n",
            " [1.1]\n",
            " [2.1]\n",
            " [1.5]\n",
            " [1.9]\n",
            " [0.2]\n",
            " [2.5]\n",
            " [1.5]\n",
            " [1.8]\n",
            " [2. ]\n",
            " [1. ]\n",
            " [1.4]\n",
            " [1.9]\n",
            " [0.2]\n",
            " [0.4]]\n"
          ]
        }
      ]
    },
    {
      "cell_type": "code",
      "source": [
        "Regressor=linear_model.LinearRegression()\n",
        "Regressor.fit(x_train,y_train)\n",
        "print(\"Model trained successfully\")\n",
        "print()\n",
        "print(\"Optimal parameters:-\")\n",
        "print(f\"Weights = {Regressor.coef_}\")\n",
        "print(f\"Bias = {Regressor.intercept_}\")"
      ],
      "metadata": {
        "colab": {
          "base_uri": "https://localhost:8080/"
        },
        "id": "d1bdVfcZxwvj",
        "outputId": "3f59b94b-e349-4d68-af51-419108674c4e"
      },
      "execution_count": 35,
      "outputs": [
        {
          "output_type": "stream",
          "name": "stdout",
          "text": [
            "Model trained successfully\n",
            "\n",
            "Optimal parameters:-\n",
            "Weights = [[-0.27261786  0.29562082  0.55324919]]\n",
            "Bias = [-0.19757409]\n"
          ]
        }
      ]
    },
    {
      "cell_type": "code",
      "source": [
        "data_pred=Regressor.predict(x_test)\n",
        "print(\"       PREDICTIONS\")\n",
        "predictions=pd.DataFrame({'Actual':y_test.squeeze(),'Predicted':data_pred.squeeze()})\n",
        "print(predictions)"
      ],
      "metadata": {
        "colab": {
          "base_uri": "https://localhost:8080/"
        },
        "id": "kCv5M5DRytwe",
        "outputId": "d2b83f4d-286b-4b9d-fa1c-7cee876ba653"
      },
      "execution_count": 36,
      "outputs": [
        {
          "output_type": "stream",
          "name": "stdout",
          "text": [
            "       PREDICTIONS\n",
            "    Actual  Predicted\n",
            "0      1.5   1.252182\n",
            "1      0.2   0.550144\n",
            "2      2.3   1.964951\n",
            "3      1.2   1.177090\n",
            "4      1.8   1.923784\n",
            "5      0.3   0.328043\n",
            "6      1.5   1.652250\n",
            "7      1.3   1.348467\n",
            "8      1.5   1.548708\n",
            "9      1.2   1.202853\n",
            "10     2.3   1.659358\n",
            "11     0.3  -0.025203\n",
            "12     0.2   0.165868\n",
            "13     1.3   1.255077\n",
            "14     0.2   0.221297\n",
            "15     0.6   0.359208\n",
            "16     1.7   1.695272\n",
            "17     1.4   1.431959\n",
            "18     0.5   0.328147\n",
            "19     2.3   2.289302\n",
            "20     0.2   0.295483\n",
            "21     1.6   1.786466\n",
            "22     0.2   0.420633\n",
            "23     1.7   1.628995\n",
            "24     0.2   0.189434\n",
            "25     0.1   0.426732\n",
            "26     2.2   1.983605\n",
            "27     0.2   0.208994\n",
            "28     1.5   1.493280\n",
            "29     1.9   1.590231\n"
          ]
        }
      ]
    },
    {
      "cell_type": "code",
      "source": [
        "print(\"Input values for prediction\")\n",
        "sepal_length=float(input(\"Enter sepal length:\"))\n",
        "sepal_width=float(input(\"Enter sepal width:\"))\n",
        "petal_length=float(input(\"Enter petal length:\"))\n",
        "prediction=Regressor.predict([[sepal_length,sepal_width,petal_length]])\n",
        "print(f\"Predicted petal width = {prediction[0]}\")"
      ],
      "metadata": {
        "colab": {
          "base_uri": "https://localhost:8080/"
        },
        "id": "7YL72wQi0l0d",
        "outputId": "4811e088-8350-4146-c1f5-6593997bec4a"
      },
      "execution_count": 40,
      "outputs": [
        {
          "output_type": "stream",
          "name": "stdout",
          "text": [
            "Input values for prediction\n",
            "Enter sepal length:3\n",
            "Enter sepal width:5\n",
            "Enter petal length:2\n",
            "Predicted petal width = [1.56917483]\n"
          ]
        }
      ]
    },
    {
      "cell_type": "code",
      "source": [
        "print(\"Mean Absolute Error =\",mean_absolute_error(y_test,data_pred))\n",
        "print(\"Mean Squared Error =\",mean_squared_error(y_test,data_pred))\n",
        "print(\"Root Mean Squared Error =\",root_mean_squared_error(y_test,data_pred))"
      ],
      "metadata": {
        "colab": {
          "base_uri": "https://localhost:8080/"
        },
        "id": "C_itipde0748",
        "outputId": "fdc23d7e-9e16-4f74-d892-c7e9c4f60aa6"
      },
      "execution_count": 41,
      "outputs": [
        {
          "output_type": "stream",
          "name": "stdout",
          "text": [
            "Mean Absolute Error = 0.14463384032280596\n",
            "Mean Squared Error = 0.04322285383641958\n",
            "Root Mean Squared Error = 0.20790106742491626\n"
          ]
        }
      ]
    }
  ]
}